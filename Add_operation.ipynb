{
 "cells": [
  {
   "cell_type": "code",
   "execution_count": 7,
   "id": "improved-agency",
   "metadata": {},
   "outputs": [
    {
     "name": "stdout",
     "output_type": "stream",
     "text": [
      "Hello, This is my first instance\n"
     ]
    }
   ],
   "source": [
    "print(\"Hello, This is my first instance\")"
   ]
  },
  {
   "cell_type": "code",
   "execution_count": 8,
   "id": "incident-executive",
   "metadata": {},
   "outputs": [],
   "source": [
    "#Performing addition of two numbers\n",
    "def add(a,b):\n",
    "    z=a+b\n",
    "    return z"
   ]
  },
  {
   "cell_type": "code",
   "execution_count": 9,
   "id": "grave-reply",
   "metadata": {},
   "outputs": [
    {
     "data": {
      "text/plain": [
       "34"
      ]
     },
     "execution_count": 9,
     "metadata": {},
     "output_type": "execute_result"
    }
   ],
   "source": [
    "add(5,29)"
   ]
  },
  {
   "cell_type": "code",
   "execution_count": 10,
   "id": "damaged-ready",
   "metadata": {},
   "outputs": [
    {
     "name": "stdout",
     "output_type": "stream",
     "text": [
      "Enumerating objects: 9, done.\n",
      "Counting objects: 100% (9/9), done.\n",
      "Delta compression using up to 2 threads.\n",
      "Compressing objects: 100% (6/6), done.\n",
      "Writing objects: 100% (9/9), 1.34 KiB | 1.34 MiB/s, done.\n",
      "Total 9 (delta 1), reused 0 (delta 0)\n",
      "remote: Resolving deltas: 100% (1/1), done.\u001b[K\n",
      "remote: \n",
      "remote: Create a pull request for 'master' on GitHub by visiting:\u001b[K\n",
      "remote:      https://github.com/Maviya96/Lab2_AI_in_Enterprise_System/pull/new/master\u001b[K\n",
      "remote: \n",
      "To https://github.com/Maviya96/Lab2_AI_in_Enterprise_System\n",
      " * [new branch]      master -> master\n",
      "Branch 'master' set up to track remote branch 'master' from 'origin'.\n"
     ]
    }
   ],
   "source": [
    "!git push -u origin master"
   ]
  },
  {
   "cell_type": "code",
   "execution_count": null,
   "id": "documented-swiss",
   "metadata": {},
   "outputs": [],
   "source": []
  }
 ],
 "metadata": {
  "kernelspec": {
   "display_name": "conda_python3",
   "language": "python",
   "name": "conda_python3"
  },
  "language_info": {
   "codemirror_mode": {
    "name": "ipython",
    "version": 3
   },
   "file_extension": ".py",
   "mimetype": "text/x-python",
   "name": "python",
   "nbconvert_exporter": "python",
   "pygments_lexer": "ipython3",
   "version": "3.6.10"
  }
 },
 "nbformat": 4,
 "nbformat_minor": 5
}
