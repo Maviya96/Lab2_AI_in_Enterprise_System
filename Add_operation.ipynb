{
 "cells": [
  {
   "cell_type": "code",
   "execution_count": 2,
   "id": "received-decision",
   "metadata": {},
   "outputs": [
    {
     "name": "stdout",
     "output_type": "stream",
     "text": [
      "Hello, This is my first instance\n"
     ]
    }
   ],
   "source": [
    "print(\"Hello, This is my first instance\")"
   ]
  },
  {
   "cell_type": "code",
   "execution_count": 3,
   "id": "tough-notion",
   "metadata": {},
   "outputs": [],
   "source": [
    "#Performing addition of two numbers\n",
    "def add(a,b):\n",
    "    z=a+b\n",
    "    return z"
   ]
  },
  {
   "cell_type": "code",
   "execution_count": 4,
   "id": "cubic-klein",
   "metadata": {},
   "outputs": [
    {
     "data": {
      "text/plain": [
       "34"
      ]
     },
     "execution_count": 4,
     "metadata": {},
     "output_type": "execute_result"
    }
   ],
   "source": [
    "add(10,24)"
   ]
  },
  {
   "cell_type": "code",
   "execution_count": null,
   "id": "peripheral-attempt",
   "metadata": {},
   "outputs": [],
   "source": []
  }
 ],
 "metadata": {
  "kernelspec": {
   "display_name": "conda_python3",
   "language": "python",
   "name": "conda_python3"
  },
  "language_info": {
   "codemirror_mode": {
    "name": "ipython",
    "version": 3
   },
   "file_extension": ".py",
   "mimetype": "text/x-python",
   "name": "python",
   "nbconvert_exporter": "python",
   "pygments_lexer": "ipython3",
   "version": "3.6.10"
  }
 },
 "nbformat": 4,
 "nbformat_minor": 5
}
